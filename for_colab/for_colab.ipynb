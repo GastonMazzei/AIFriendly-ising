{
  "nbformat": 4,
  "nbformat_minor": 0,
  "metadata": {
    "kernelspec": {
      "display_name": "Python 3",
      "language": "python",
      "name": "python3"
    },
    "language_info": {
      "codemirror_mode": {
        "name": "ipython",
        "version": 3
      },
      "file_extension": ".py",
      "mimetype": "text/x-python",
      "name": "python",
      "nbconvert_exporter": "python",
      "pygments_lexer": "ipython3",
      "version": "3.7.6"
    },
    "colab": {
      "name": "for_colab.ipynb",
      "provenance": []
    }
  },
  "cells": [
    {
      "cell_type": "code",
      "metadata": {
        "id": "WZ321XWEHC60"
      },
      "source": [
        "import numpy as np\n",
        "import pandas as pd\n",
        "\n",
        "from numpy.random import rand\n",
        "from matplotlib import pyplot as plt"
      ],
      "execution_count": 1,
      "outputs": []
    },
    {
      "cell_type": "code",
      "metadata": {
        "id": "WDPGMN01HC7E"
      },
      "source": [
        "def initialstate(N):   \n",
        "    ''' \n",
        "    generates a random spin configuration for the\n",
        "    initial condition\n",
        "    '''\n",
        "    state = 2*np.random.randint(2, size=(N,N))-1\n",
        "    return state"
      ],
      "execution_count": 2,
      "outputs": []
    },
    {
      "cell_type": "code",
      "metadata": {
        "id": "an7L70zXHC7R"
      },
      "source": [
        "def mcmove(config, beta,field):\n",
        "    '''Monte Carlo move using Metropolis algorithm '''\n",
        "    for i in range(N):\n",
        "        for j in range(N):\n",
        "                a = np.random.randint(0, N)\n",
        "                b = np.random.randint(0, N)\n",
        "                s =  config[a, b]\n",
        "                nb = config[(a+1)%N,b] + config[a,(b+1)%N] + config[(a-1)%N,b] + config[a,(b-1)%N]\n",
        "                cost = 2*s*nb - s*field\n",
        "                if cost < 0:\n",
        "                    s *= -1\n",
        "                elif rand() < np.exp(-cost*beta):\n",
        "                    s *= -1\n",
        "                config[a, b] = s\n",
        "    return config"
      ],
      "execution_count": 3,
      "outputs": []
    },
    {
      "cell_type": "code",
      "metadata": {
        "id": "8mn5McDYHC7a"
      },
      "source": [
        "def calcEnergy(config,field):\n",
        "    '''Energy of a given configuration'''\n",
        "    energy = 0\n",
        "    for i in range(len(config)):\n",
        "        for j in range(len(config)):\n",
        "            S = config[i,j]\n",
        "            nb = config[(i+1)%N, j] + config[i,(j+1)%N] + config[(i-1)%N, j] + config[i,(j-1)%N]\n",
        "            energy += -nb*S - 4 * S * field\n",
        "    return energy/4."
      ],
      "execution_count": 4,
      "outputs": []
    },
    {
      "cell_type": "code",
      "metadata": {
        "id": "VNOd8n_rHC7h"
      },
      "source": [
        "def calcMag(config):\n",
        "    '''Magnetization of a given configuration'''\n",
        "    mag = np.sum(config)\n",
        "    return mag"
      ],
      "execution_count": 5,
      "outputs": []
    },
    {
      "cell_type": "code",
      "metadata": {
        "id": "kIZiM-I9HC7q"
      },
      "source": [
        "def main(nt, address):\n",
        "    counter = 0\n",
        "    for tt in range(nt):\n",
        "        print('RUNNING ITERATION ',counter,' OF ',nt)\n",
        "        counter += 1\n",
        "        field = rand()*(-1)**np.random.randint(2)\n",
        "        E1 = M1 = E2 = M2 = 0\n",
        "        config = initialstate(N)\n",
        "        iT=1.0/T[tt]; iT2=iT*iT;\n",
        "\n",
        "        for i in range(eqSteps):         \n",
        "            mcmove(config, iT,field)           # Monte Carlo moves\n",
        "\n",
        "        for i in range(mcSteps):\n",
        "            mcmove(config, iT,field)           \n",
        "            Ene = calcEnergy(config, field)     # calculate the energy\n",
        "            Mag = calcMag(config)        # calculate the magnetisation\n",
        "\n",
        "            E1 = E1 + Ene\n",
        "            M1 = M1 + Mag\n",
        "            M2 = M2 + Mag*Mag \n",
        "            E2 = E2 + Ene*Ene\n",
        "\n",
        "        E[tt] = n1*E1\n",
        "        M[tt] = n1*M1\n",
        "        C[tt] = (n1*E2 - n2*E1*E1)*iT2\n",
        "        X[tt] = (n1*M2 - n2*M1*M1)*iT\n",
        "    if True:\n",
        "        f = plt.figure(figsize=(18, 10)); # plot the calculated values    \n",
        "        sp =  f.add_subplot(2, 2, 1 );\n",
        "        plt.scatter(T, E, s=50, marker='o', color='IndianRed')\n",
        "        plt.xlabel(\"Temperature (T)\", fontsize=20);\n",
        "        plt.ylabel(\"Energy \", fontsize=20);         plt.axis('tight');\n",
        "        sp =  f.add_subplot(2, 2, 2 );\n",
        "        plt.scatter(T, abs(M), s=50, marker='o', color='RoyalBlue')\n",
        "        plt.xlabel(\"Temperature (T)\", fontsize=20); \n",
        "        plt.ylabel(\"Magnetization \", fontsize=20);   plt.axis('tight');\n",
        "        sp =  f.add_subplot(2, 2, 3 );\n",
        "        plt.scatter(T, C, s=50, marker='o', color='IndianRed')\n",
        "        plt.xlabel(\"Temperature (T)\", fontsize=20);  \n",
        "        plt.ylabel(\"Specific Heat \", fontsize=20);   plt.axis('tight');   \n",
        "        sp =  f.add_subplot(2, 2, 4 );\n",
        "        plt.scatter(T, X, s=50, marker='o', color='RoyalBlue')\n",
        "        plt.xlabel(\"Temperature (T)\", fontsize=20); \n",
        "        plt.ylabel(\"Susceptibility\", fontsize=20);   plt.axis('tight');\n",
        "        plt.savefig(adress+'/ising-results.png')\n",
        "    df = pd.DataFrame({'field':[field]*len(T) ,'T':T,'E':E,'C':C,'X':X,'M':M}) # append\n",
        "    with open(adress+'/ising.csv', 'a') as f:\n",
        "        df.to_csv(f, mode='a', header=f.tell()==0, index=False)"
      ],
      "execution_count": 15,
      "outputs": []
    },
    {
      "cell_type": "code",
      "metadata": {
        "id": "EN4sDL1oHC7x",
        "outputId": "f477e8f8-d467-460f-88ec-3fdd0725d24d",
        "colab": {
          "base_uri": "https://localhost:8080/",
          "height": 219
        }
      },
      "source": [
        "nt      = 5000\n",
        "N       = 16        \n",
        "eqSteps = 1024      \n",
        "mcSteps = 1024       \n",
        "T       = np.linspace(0.5, 4, nt); \n",
        "E,M,C,X = np.zeros(nt), np.zeros(nt), np.zeros(nt), np.zeros(nt)\n",
        "n1, n2  = 1.0/(mcSteps*N*N), 1.0/(mcSteps*mcSteps*N*N) \n",
        "\n",
        "from google.colab import drive\n",
        "drive.mount('/content/drive')\n",
        "import os\n",
        "os.mkdir('drive/My Drive/ising')"
      ],
      "execution_count": 16,
      "outputs": [
        {
          "output_type": "stream",
          "text": [
            "Drive already mounted at /content/drive; to attempt to forcibly remount, call drive.mount(\"/content/drive\", force_remount=True).\n"
          ],
          "name": "stdout"
        },
        {
          "output_type": "error",
          "ename": "FileExistsError",
          "evalue": "ignored",
          "traceback": [
            "\u001b[0;31m---------------------------------------------------------------------------\u001b[0m",
            "\u001b[0;31mFileExistsError\u001b[0m                           Traceback (most recent call last)",
            "\u001b[0;32m<ipython-input-16-7d2dd0a571f1>\u001b[0m in \u001b[0;36m<module>\u001b[0;34m()\u001b[0m\n\u001b[1;32m     10\u001b[0m \u001b[0mdrive\u001b[0m\u001b[0;34m.\u001b[0m\u001b[0mmount\u001b[0m\u001b[0;34m(\u001b[0m\u001b[0;34m'/content/drive'\u001b[0m\u001b[0;34m)\u001b[0m\u001b[0;34m\u001b[0m\u001b[0;34m\u001b[0m\u001b[0m\n\u001b[1;32m     11\u001b[0m \u001b[0;32mimport\u001b[0m \u001b[0mos\u001b[0m\u001b[0;34m\u001b[0m\u001b[0;34m\u001b[0m\u001b[0m\n\u001b[0;32m---> 12\u001b[0;31m \u001b[0mos\u001b[0m\u001b[0;34m.\u001b[0m\u001b[0mmkdir\u001b[0m\u001b[0;34m(\u001b[0m\u001b[0;34m'drive/My Drive/ising'\u001b[0m\u001b[0;34m)\u001b[0m\u001b[0;34m\u001b[0m\u001b[0;34m\u001b[0m\u001b[0m\n\u001b[0m",
            "\u001b[0;31mFileExistsError\u001b[0m: [Errno 17] File exists: 'drive/My Drive/ising'"
          ]
        }
      ]
    },
    {
      "cell_type": "code",
      "metadata": {
        "id": "fxw_k5SmHOGs",
        "outputId": "aff006f4-4f8d-4621-8cf4-8f48bdf9868e",
        "colab": {
          "base_uri": "https://localhost:8080/",
          "height": 52
        }
      },
      "source": [
        "address = 'drive/My Drive/ising' #where the results will be saved\n",
        "main(nt, address)"
      ],
      "execution_count": null,
      "outputs": [
        {
          "output_type": "stream",
          "text": [
            "RUNNING ITERATION  0  OF  5000\n",
            "RUNNING ITERATION  1  OF  5000\n"
          ],
          "name": "stdout"
        }
      ]
    },
    {
      "cell_type": "code",
      "metadata": {
        "id": "7N1cOEuHHY5m"
      },
      "source": [
        ""
      ],
      "execution_count": null,
      "outputs": []
    }
  ]
}