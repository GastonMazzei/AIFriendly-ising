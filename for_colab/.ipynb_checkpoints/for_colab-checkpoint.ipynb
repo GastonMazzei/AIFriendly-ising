{
 "cells": [
  {
   "cell_type": "code",
   "execution_count": 7,
   "metadata": {},
   "outputs": [],
   "source": [
    "import numpy as np\n",
    "import pandas as pd\n",
    "\n",
    "from numpy.random import rand\n",
    "from matplotlib import pyplot as plt"
   ]
  },
  {
   "cell_type": "code",
   "execution_count": 2,
   "metadata": {},
   "outputs": [],
   "source": [
    "def initialstate(N):   \n",
    "    ''' \n",
    "    generates a random spin configuration for the\n",
    "    initial condition\n",
    "    '''\n",
    "    state = 2*np.random.randint(2, size=(N,N))-1\n",
    "    return state"
   ]
  },
  {
   "cell_type": "code",
   "execution_count": 3,
   "metadata": {},
   "outputs": [],
   "source": [
    "def mcmove(config, beta,field):\n",
    "    '''Monte Carlo move using Metropolis algorithm '''\n",
    "    for i in range(N):\n",
    "        for j in range(N):\n",
    "                a = np.random.randint(0, N)\n",
    "                b = np.random.randint(0, N)\n",
    "                s =  config[a, b]\n",
    "                nb = config[(a+1)%N,b] + config[a,(b+1)%N] + config[(a-1)%N,b] + config[a,(b-1)%N]\n",
    "                cost = 2*s*nb - s*field\n",
    "                if cost < 0:\n",
    "                    s *= -1\n",
    "                elif rand() < np.exp(-cost*beta):\n",
    "                    s *= -1\n",
    "                config[a, b] = s\n",
    "    return config"
   ]
  },
  {
   "cell_type": "code",
   "execution_count": 4,
   "metadata": {},
   "outputs": [],
   "source": [
    "def calcEnergy(config,field):\n",
    "    '''Energy of a given configuration'''\n",
    "    energy = 0\n",
    "    for i in range(len(config)):\n",
    "        for j in range(len(config)):\n",
    "            S = config[i,j]\n",
    "            nb = config[(i+1)%N, j] + config[i,(j+1)%N] + config[(i-1)%N, j] + config[i,(j-1)%N]\n",
    "            energy += -nb*S - 4 * S * field\n",
    "    return energy/4."
   ]
  },
  {
   "cell_type": "code",
   "execution_count": 5,
   "metadata": {},
   "outputs": [],
   "source": [
    "def calcMag(config):\n",
    "    '''Magnetization of a given configuration'''\n",
    "    mag = np.sum(config)\n",
    "    return mag"
   ]
  },
  {
   "cell_type": "code",
   "execution_count": 10,
   "metadata": {},
   "outputs": [],
   "source": [
    "def main(nt, address):\n",
    "    for tt in range(nt):\n",
    "        field = rand()*(-1)**np.random.randint(2)\n",
    "        E1 = M1 = E2 = M2 = 0\n",
    "        config = initialstate(N)\n",
    "        iT=1.0/T[tt]; iT2=iT*iT;\n",
    "\n",
    "        for i in range(eqSteps):         \n",
    "            mcmove(config, iT,field)           # Monte Carlo moves\n",
    "\n",
    "        for i in range(mcSteps):\n",
    "            mcmove(config, iT,field)           \n",
    "            Ene = calcEnergy(config, field)     # calculate the energy\n",
    "            Mag = calcMag(config)        # calculate the magnetisation\n",
    "\n",
    "            E1 = E1 + Ene\n",
    "            M1 = M1 + Mag\n",
    "            M2 = M2 + Mag*Mag \n",
    "            E2 = E2 + Ene*Ene\n",
    "\n",
    "        E[tt] = n1*E1\n",
    "        M[tt] = n1*M1\n",
    "        C[tt] = (n1*E2 - n2*E1*E1)*iT2\n",
    "        X[tt] = (n1*M2 - n2*M1*M1)*iT\n",
    "    if True:\n",
    "        f = plt.figure(figsize=(18, 10)); # plot the calculated values    \n",
    "        sp =  f.add_subplot(2, 2, 1 );\n",
    "        plt.scatter(T, E, s=50, marker='o', color='IndianRed')\n",
    "        plt.xlabel(\"Temperature (T)\", fontsize=20);\n",
    "        plt.ylabel(\"Energy \", fontsize=20);         plt.axis('tight');\n",
    "        sp =  f.add_subplot(2, 2, 2 );\n",
    "        plt.scatter(T, abs(M), s=50, marker='o', color='RoyalBlue')\n",
    "        plt.xlabel(\"Temperature (T)\", fontsize=20); \n",
    "        plt.ylabel(\"Magnetization \", fontsize=20);   plt.axis('tight');\n",
    "        sp =  f.add_subplot(2, 2, 3 );\n",
    "        plt.scatter(T, C, s=50, marker='o', color='IndianRed')\n",
    "        plt.xlabel(\"Temperature (T)\", fontsize=20);  \n",
    "        plt.ylabel(\"Specific Heat \", fontsize=20);   plt.axis('tight');   \n",
    "        sp =  f.add_subplot(2, 2, 4 );\n",
    "        plt.scatter(T, X, s=50, marker='o', color='RoyalBlue')\n",
    "        plt.xlabel(\"Temperature (T)\", fontsize=20); \n",
    "        plt.ylabel(\"Susceptibility\", fontsize=20);   plt.axis('tight');\n",
    "        plt.savefig(adress+'/ising-results.png')\n",
    "    df = pd.DataFrame({'field':[field]*len(T) ,'T':T,'E':E,'C':C,'X':X,'M':M}) # append\n",
    "    with open(adress+'/ising.csv', 'a') as f:\n",
    "        df.to_csv(f, mode='a', header=f.tell()==0, index=False)"
   ]
  },
  {
   "cell_type": "code",
   "execution_count": 11,
   "metadata": {},
   "outputs": [],
   "source": [
    "nt      = 5000\n",
    "N       = 16        \n",
    "eqSteps = 1024      \n",
    "mcSteps = 1024       \n",
    "T       = np.linspace(0.5, 4, nt); \n",
    "E,M,C,X = np.zeros(nt), np.zeros(nt), np.zeros(nt), np.zeros(nt)\n",
    "n1, n2  = 1.0/(mcSteps*N*N), 1.0/(mcSteps*mcSteps*N*N) \n",
    "\n",
    "from google.colab import drive\n",
    "drive.mount('/content/drive')\n",
    "\n",
    "address = 'my/Drive/directory-for-ising' #where the results will be saved\n",
    "main(nt, address)"
   ]
  }
 ],
 "metadata": {
  "kernelspec": {
   "display_name": "Python 3",
   "language": "python",
   "name": "python3"
  },
  "language_info": {
   "codemirror_mode": {
    "name": "ipython",
    "version": 3
   },
   "file_extension": ".py",
   "mimetype": "text/x-python",
   "name": "python",
   "nbconvert_exporter": "python",
   "pygments_lexer": "ipython3",
   "version": "3.7.6"
  }
 },
 "nbformat": 4,
 "nbformat_minor": 4
}
